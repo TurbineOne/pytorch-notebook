{
 "cells": [
  {
   "cell_type": "markdown",
   "id": "eab0d7be-c3b8-45b3-a022-71f6380cd1fb",
   "metadata": {},
   "source": [
    "# Test the Performance of Single Image vs Batch Inference\n",
    "\n",
    "* https://github.com/ultralytics/ultralytics/issues/1310#issuecomment-1607435659\n",
    "* https://pytorch.org/tutorials/recipes/recipes/profiler_recipe.html#using-profiler-to-analyze-memory-consumption"
   ]
  },
  {
   "cell_type": "code",
   "execution_count": 32,
   "id": "633c842b-802d-4d6a-aefb-8a3f58a53756",
   "metadata": {},
   "outputs": [],
   "source": [
    "from ultralytics import YOLO\n",
    "import time\n",
    "import torch\n",
    "from torch.profiler import profile, record_function, ProfilerActivity\n",
    "from dataclasses import dataclass\n",
    "\n",
    "model = YOLO('yolov8n-seg.yaml')"
   ]
  },
  {
   "cell_type": "code",
   "execution_count": 33,
   "id": "08040bc8-b1fc-44f0-bff3-41a6f7b42d02",
   "metadata": {},
   "outputs": [
    {
     "data": {
      "text/plain": [
       "True"
      ]
     },
     "execution_count": 33,
     "metadata": {},
     "output_type": "execute_result"
    }
   ],
   "source": [
    "torch.cuda.is_available()"
   ]
  },
  {
   "cell_type": "code",
   "execution_count": 34,
   "id": "2a9b4547-b002-4c27-ac1a-bcd24dfeff99",
   "metadata": {},
   "outputs": [
    {
     "name": "stdout",
     "output_type": "stream",
     "text": [
      "--- Batched (2 images) totalling 0.08 seconds .. average of 0.04 seconds per image---\n",
      "vs- Looped  (2 images) totalling 0.02 seconds .. average of 0.01 seconds per image---\n",
      "------------------------------------------------------------\n",
      "--- Batched (4 images) totalling 0.02 seconds .. average of 0.01 seconds per image---\n",
      "vs- Looped  (4 images) totalling 0.03 seconds .. average of 0.01 seconds per image---\n",
      "------------------------------------------------------------\n",
      "--- Batched (8 images) totalling 0.04 seconds .. average of 0.01 seconds per image---\n",
      "vs- Looped  (8 images) totalling 0.06 seconds .. average of 0.01 seconds per image---\n",
      "------------------------------------------------------------\n",
      "--- Batched (16 images) totalling 0.08 seconds .. average of 0.01 seconds per image---\n",
      "vs- Looped  (16 images) totalling 0.12 seconds .. average of 0.01 seconds per image---\n",
      "------------------------------------------------------------\n",
      "--- Batched (32 images) totalling 0.16 seconds .. average of 0.00 seconds per image---\n",
      "vs- Looped  (32 images) totalling 0.24 seconds .. average of 0.01 seconds per image---\n",
      "------------------------------------------------------------\n",
      "--- Batched (256 images) totalling 2.53 seconds .. average of 0.01 seconds per image---\n",
      "vs- Looped  (256 images) totalling 1.85 seconds .. average of 0.01 seconds per image---\n",
      "------------------------------------------------------------\n"
     ]
    }
   ],
   "source": [
    "import numpy as np\n",
    "for i in [2,4,8,16,32,256]:\n",
    "    data = [np.random.rand(640, 640, 3).astype(np.float32) for n in range(i)]\n",
    "    start_time = time.time()\n",
    "    results = model.predict(data, verbose=False, show=False, stream=False, device='cuda')\n",
    "    print(\"--- Batched (%d images) totalling %.2f seconds .. average of %.2f seconds per image---\" % (i, time.time() - start_time, (time.time() - start_time)/i))\n",
    "    data = [np.random.rand(640, 640, 3).astype(np.float32) for n in range(i)]\n",
    "    start_time = time.time()\n",
    "    for j in data:\n",
    "        results = model.predict(j, verbose=False, show=False, stream=False, device='cuda')\n",
    "    print(\"vs- Looped  (%d images) totalling %.2f seconds .. average of %.2f seconds per image---\" % (i, time.time() - start_time, (time.time() - start_time)/i))\n",
    "    print(\"---\"*20)"
   ]
  },
  {
   "cell_type": "code",
   "execution_count": null,
   "id": "9cfb5b6f-2284-4890-a31a-96a860aaade1",
   "metadata": {},
   "outputs": [],
   "source": []
  }
 ],
 "metadata": {
  "kernelspec": {
   "display_name": "Python 3 (ipykernel)",
   "language": "python",
   "name": "python3"
  },
  "language_info": {
   "codemirror_mode": {
    "name": "ipython",
    "version": 3
   },
   "file_extension": ".py",
   "mimetype": "text/x-python",
   "name": "python",
   "nbconvert_exporter": "python",
   "pygments_lexer": "ipython3",
   "version": "3.10.12"
  }
 },
 "nbformat": 4,
 "nbformat_minor": 5
}
