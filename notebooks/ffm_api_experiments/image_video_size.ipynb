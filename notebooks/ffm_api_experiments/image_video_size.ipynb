{
 "cells": [
  {
   "cell_type": "markdown",
   "id": "b6829d15-d12b-4f43-ae62-f64d89bc6e36",
   "metadata": {},
   "source": [
    "# Comparison of Image Size vs Chunk Sizes\n",
    "This notebook attempts to compare the sizes of compressed JPEG frames vs. the video."
   ]
  },
  {
   "cell_type": "code",
   "execution_count": 1,
   "id": "47ab4b4c-abc5-462d-9c5d-c0bf966c81cd",
   "metadata": {},
   "outputs": [
    {
     "data": {
      "text/plain": [
       "'/tmp/tmp2_ud5ug1'"
      ]
     },
     "execution_count": 1,
     "metadata": {},
     "output_type": "execute_result"
    }
   ],
   "source": [
    "import urllib.request\n",
    "\n",
    "# Download the video.\n",
    "video_url = 'https://raw.github.com/mkornacker/pixeltable/master/docs/source/data/bangkok.mp4'\n",
    "filename, _ = urllib.request.urlretrieve(video_url)\n",
    "filename"
   ]
  },
  {
   "cell_type": "code",
   "execution_count": 16,
   "id": "cdce3d45-42b8-41f7-9145-e3b6b576bf10",
   "metadata": {},
   "outputs": [],
   "source": [
    "import logging\n",
    "logger = logging.getLogger()\n",
    "logger.setLevel(logging.DEBUG)"
   ]
  },
  {
   "cell_type": "markdown",
   "id": "f98d2e76-8b57-4da6-a4e9-28f1f0311768",
   "metadata": {},
   "source": [
    "## Video Information"
   ]
  },
  {
   "cell_type": "code",
   "execution_count": 18,
   "id": "4d549077-c466-4fd4-a892-a73e6c89af8d",
   "metadata": {},
   "outputs": [
    {
     "name": "stderr",
     "output_type": "stream",
     "text": [
      "DEBUG:root:The video has a width and height of 1280.0px x 720.0px and 462 total frames at 25.0.\n",
      "DEBUG:root:It is 6406129 bytes on disk.\n"
     ]
    }
   ],
   "source": [
    "import cv2\n",
    "import os\n",
    "\n",
    "vcap = cv2.VideoCapture(filename)\n",
    "width = vcap.get(cv2.CAP_PROP_FRAME_WIDTH)\n",
    "height = vcap.get(cv2.CAP_PROP_FRAME_HEIGHT)\n",
    "fps = vcap.get(cv2.CAP_PROP_FPS)\n",
    "total_frames = vcap.get(cv2.CAP_PROP_FRAME_COUNT)\n",
    "\n",
    "video_size = os.path.getsize(filename)\n",
    "\n",
    "logging.debug(f\"The video has a width and height of {width}px x {height}px and {int(total_frames)} total frames at {fps}.\")\n",
    "logging.debug(f\"It is {video_size} bytes on disk.\")"
   ]
  },
  {
   "cell_type": "markdown",
   "id": "2533283c-cec2-43dc-a93d-32aab3cfdfa8",
   "metadata": {},
   "source": [
    "## Frame Sizes"
   ]
  },
  {
   "cell_type": "code",
   "execution_count": 24,
   "id": "1956ad6c-b2b1-49df-ad51-bfb4b68592ca",
   "metadata": {},
   "outputs": [
    {
     "name": "stderr",
     "output_type": "stream",
     "text": [
      "DEBUG:root:Extracted 462 frames in 7.163924 seconds\n"
     ]
    }
   ],
   "source": [
    "import cv2\n",
    "import pathlib\n",
    "import video_reader\n",
    "\n",
    "base_path = pathlib.Path('/tmp/saved_frames/')\n",
    "base_path.mkdir(parents=True, exist_ok=True)\n",
    "\n",
    "JPEG_QUALITY = 100\n",
    "\n",
    "def save_frame(bytes, count):\n",
    "    cv2.imwrite(str(base_path/f\"frame_{count}.jpg\"), bytes, [int(cv2.IMWRITE_JPEG_QUALITY), JPEG_QUALITY]) \n",
    "\n",
    "video_reader.map_frames(filename, save_frame)"
   ]
  },
  {
   "cell_type": "code",
   "execution_count": 26,
   "id": "2cbf8fe0-f304-42f6-a8bd-cb21b45ca55f",
   "metadata": {},
   "outputs": [
    {
     "name": "stderr",
     "output_type": "stream",
     "text": [
      "DEBUG:root:The images have a total size of 748799617 bytes.\n",
      "DEBUG:root:This is 116.88800163093812 times the size of the video.\n"
     ]
    }
   ],
   "source": [
    "import glob\n",
    "import logging\n",
    "import os\n",
    "\n",
    "total_size = 0\n",
    "for image_path in glob.glob(str('./*.png')):\n",
    "    total_size += os.path.getsize(image_path)\n",
    "\n",
    "logging.debug(f\"The images have a total size of {total_size} bytes.\")\n",
    "logging.debug(f\"This is {total_size / video_size} times the size of the video.\")"
   ]
  },
  {
   "cell_type": "code",
   "execution_count": null,
   "id": "0a268c7f-38ad-4dd6-a502-28c56e5adad5",
   "metadata": {},
   "outputs": [],
   "source": []
  }
 ],
 "metadata": {
  "kernelspec": {
   "display_name": "Python 3 (ipykernel)",
   "language": "python",
   "name": "python3"
  },
  "language_info": {
   "codemirror_mode": {
    "name": "ipython",
    "version": 3
   },
   "file_extension": ".py",
   "mimetype": "text/x-python",
   "name": "python",
   "nbconvert_exporter": "python",
   "pygments_lexer": "ipython3",
   "version": "3.10.12"
  }
 },
 "nbformat": 4,
 "nbformat_minor": 5
}
