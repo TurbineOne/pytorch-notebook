{
 "cells": [
  {
   "cell_type": "markdown",
   "id": "586263fd-12cc-45cc-85e6-045d3c0774d9",
   "metadata": {},
   "source": [
    "# Test Sending File Descriptors\n",
    "https://pythontic.com/modules/socket/send_fds"
   ]
  },
  {
   "cell_type": "code",
   "execution_count": 1,
   "id": "44d8e866-7ffe-4a6e-a8c8-40338808e30f",
   "metadata": {},
   "outputs": [
    {
     "name": "stdout",
     "output_type": "stream",
     "text": [
      "Defaulting to user installation because normal site-packages is not writeable\n",
      "Collecting av\n",
      "  Downloading av-11.0.0-cp310-cp310-manylinux_2_17_x86_64.manylinux2014_x86_64.whl (32.9 MB)\n",
      "\u001b[2K     \u001b[90m━━━━━━━━━━━━━━━━━━━━━━━━━━━━━━━━━━━━━━━━\u001b[0m \u001b[32m32.9/32.9 MB\u001b[0m \u001b[31m23.2 MB/s\u001b[0m eta \u001b[36m0:00:00\u001b[0m00:01\u001b[0m00:01\u001b[0m\n",
      "\u001b[?25hInstalling collected packages: av\n",
      "Successfully installed av-11.0.0\n"
     ]
    }
   ],
   "source": [
    "!pip install av"
   ]
  },
  {
   "cell_type": "code",
   "execution_count": null,
   "id": "fd4ee677-ecdd-4612-8b30-fc1125db4918",
   "metadata": {},
   "outputs": [
    {
     "name": "stdout",
     "output_type": "stream",
     "text": [
      "Unix domain socket waiting for client connections...\n",
      "b'HTTP/1.1 200 OK\\r\\nConnection: keep-alive\\r\\nContent-Length: 1256\\r\\nCache-Control: max-age=604800\\r\\nConten'\n",
      "b'{\"instruction\":\"How many torpedo tubes did the NameS class submarine have?\",\"input\":\"\",\"output\":\"6\"}'\n"
     ]
    }
   ],
   "source": [
    "# Example Python program that creates \n",
    "# a server using an Unix Domain Socket  \n",
    "# and receives File Descriptors from other\n",
    "# processes connecting to this server through \n",
    "# the function socket.receive_fds()  \n",
    "import socket\n",
    "import os\n",
    "from pathlib import Path\n",
    "\n",
    "import av\n",
    "\n",
    "socket_path = Path.home()/\"test.sock\"\n",
    "socket_path.touch()\n",
    "\n",
    "# Create a Unix Domain socket\n",
    "domainServer = socket.socket(socket.AF_UNIX)\n",
    "\n",
    "# Bind the socket to a path\n",
    "os.unlink(str(socket_path))\n",
    "domainServer.bind(str(socket_path))\n",
    "\n",
    "# Enter into listening mode\n",
    "domainServer.listen()  \n",
    "print(\"Unix domain socket waiting for client connections...\")\n",
    "\n",
    "# Start accepting connections\n",
    "while(True):\n",
    "    sock, addr = domainServer.accept()\n",
    "\n",
    "    # Read file descriptors from a connection\n",
    "    while(True):\n",
    "        tup = socket.recv_fds(sock, 1024, 2)\n",
    "        type = tup[0]\n",
    "        fds = tup[1][0]\n",
    "        \n",
    "        if type == b\"url\":\n",
    "            request = b\"GET / HTTP/1.1\\r\\nHost:www.example.com\\r\\n\\r\\n\"\n",
    "            os.write(fds, request)\n",
    "            print(os.read(fds, 100))\n",
    "        elif type == b\"file\":\n",
    "            print(os.read(fds, 100))\n",
    "        elif type == b\"mp4\":\n",
    "            container = av.open(fds)\n",
    "            for frame in container:\n",
    "                print('decoded frame')\n",
    "\n",
    "        sock.send(\"Great...have read all the news\".encode())\n",
    "        sock.close()\n",
    "        break"
   ]
  },
  {
   "cell_type": "code",
   "execution_count": null,
   "id": "af7981a7-2e49-497c-81fd-df601a8efbba",
   "metadata": {},
   "outputs": [],
   "source": []
  }
 ],
 "metadata": {
  "kernelspec": {
   "display_name": "Python 3 (ipykernel)",
   "language": "python",
   "name": "python3"
  },
  "language_info": {
   "codemirror_mode": {
    "name": "ipython",
    "version": 3
   },
   "file_extension": ".py",
   "mimetype": "text/x-python",
   "name": "python",
   "nbconvert_exporter": "python",
   "pygments_lexer": "ipython3",
   "version": "3.10.12"
  }
 },
 "nbformat": 4,
 "nbformat_minor": 5
}
