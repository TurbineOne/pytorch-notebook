{
 "cells": [
  {
   "cell_type": "markdown",
   "id": "586263fd-12cc-45cc-85e6-045d3c0774d9",
   "metadata": {},
   "source": [
    "# Test Sending File Descriptors\n",
    "https://pythontic.com/modules/socket/send_fds"
   ]
  },
  {
   "cell_type": "code",
   "execution_count": 1,
   "id": "44d8e866-7ffe-4a6e-a8c8-40338808e30f",
   "metadata": {},
   "outputs": [
    {
     "name": "stdout",
     "output_type": "stream",
     "text": [
      "Defaulting to user installation because normal site-packages is not writeable\n",
      "Collecting av\n",
      "  Downloading av-11.0.0-cp310-cp310-manylinux_2_17_x86_64.manylinux2014_x86_64.whl (32.9 MB)\n",
      "\u001b[2K     \u001b[90m━━━━━━━━━━━━━━━━━━━━━━━━━━━━━━━━━━━━━━━━\u001b[0m \u001b[32m32.9/32.9 MB\u001b[0m \u001b[31m23.2 MB/s\u001b[0m eta \u001b[36m0:00:00\u001b[0m00:01\u001b[0m00:01\u001b[0m\n",
      "\u001b[?25hInstalling collected packages: av\n",
      "Successfully installed av-11.0.0\n"
     ]
    }
   ],
   "source": [
    "!pip install av"
   ]
  },
  {
   "cell_type": "code",
   "execution_count": 1,
   "id": "fd4ee677-ecdd-4612-8b30-fc1125db4918",
   "metadata": {},
   "outputs": [
    {
     "name": "stdout",
     "output_type": "stream",
     "text": [
      "Unix domain socket waiting for client connections...\n",
      "Decoded 296 of video data\n"
     ]
    },
    {
     "ename": "KeyboardInterrupt",
     "evalue": "",
     "output_type": "error",
     "traceback": [
      "\u001b[0;31m---------------------------------------------------------------------------\u001b[0m",
      "\u001b[0;31mKeyboardInterrupt\u001b[0m                         Traceback (most recent call last)",
      "Cell \u001b[0;32mIn[1], line 29\u001b[0m\n\u001b[1;32m     27\u001b[0m \u001b[38;5;66;03m# Start accepting connections\u001b[39;00m\n\u001b[1;32m     28\u001b[0m \u001b[38;5;28;01mwhile\u001b[39;00m(\u001b[38;5;28;01mTrue\u001b[39;00m):\n\u001b[0;32m---> 29\u001b[0m     sock, addr \u001b[38;5;241m=\u001b[39m \u001b[43mdomainServer\u001b[49m\u001b[38;5;241;43m.\u001b[39;49m\u001b[43maccept\u001b[49m\u001b[43m(\u001b[49m\u001b[43m)\u001b[49m\n\u001b[1;32m     31\u001b[0m     \u001b[38;5;66;03m# Read file descriptors from a connection\u001b[39;00m\n\u001b[1;32m     32\u001b[0m     \u001b[38;5;28;01mwhile\u001b[39;00m(\u001b[38;5;28;01mTrue\u001b[39;00m):\n",
      "File \u001b[0;32m/usr/lib/python3.10/socket.py:293\u001b[0m, in \u001b[0;36msocket.accept\u001b[0;34m(self)\u001b[0m\n\u001b[1;32m    286\u001b[0m \u001b[38;5;28;01mdef\u001b[39;00m \u001b[38;5;21maccept\u001b[39m(\u001b[38;5;28mself\u001b[39m):\n\u001b[1;32m    287\u001b[0m \u001b[38;5;250m    \u001b[39m\u001b[38;5;124;03m\"\"\"accept() -> (socket object, address info)\u001b[39;00m\n\u001b[1;32m    288\u001b[0m \n\u001b[1;32m    289\u001b[0m \u001b[38;5;124;03m    Wait for an incoming connection.  Return a new socket\u001b[39;00m\n\u001b[1;32m    290\u001b[0m \u001b[38;5;124;03m    representing the connection, and the address of the client.\u001b[39;00m\n\u001b[1;32m    291\u001b[0m \u001b[38;5;124;03m    For IP sockets, the address info is a pair (hostaddr, port).\u001b[39;00m\n\u001b[1;32m    292\u001b[0m \u001b[38;5;124;03m    \"\"\"\u001b[39;00m\n\u001b[0;32m--> 293\u001b[0m     fd, addr \u001b[38;5;241m=\u001b[39m \u001b[38;5;28;43mself\u001b[39;49m\u001b[38;5;241;43m.\u001b[39;49m\u001b[43m_accept\u001b[49m\u001b[43m(\u001b[49m\u001b[43m)\u001b[49m\n\u001b[1;32m    294\u001b[0m     sock \u001b[38;5;241m=\u001b[39m socket(\u001b[38;5;28mself\u001b[39m\u001b[38;5;241m.\u001b[39mfamily, \u001b[38;5;28mself\u001b[39m\u001b[38;5;241m.\u001b[39mtype, \u001b[38;5;28mself\u001b[39m\u001b[38;5;241m.\u001b[39mproto, fileno\u001b[38;5;241m=\u001b[39mfd)\n\u001b[1;32m    295\u001b[0m     \u001b[38;5;66;03m# Issue #7995: if no default timeout is set and the listening\u001b[39;00m\n\u001b[1;32m    296\u001b[0m     \u001b[38;5;66;03m# socket had a (non-zero) timeout, force the new socket in blocking\u001b[39;00m\n\u001b[1;32m    297\u001b[0m     \u001b[38;5;66;03m# mode to override platform-specific socket flags inheritance.\u001b[39;00m\n",
      "\u001b[0;31mKeyboardInterrupt\u001b[0m: "
     ]
    }
   ],
   "source": [
    "# Example Python program that creates \n",
    "# a server using an Unix Domain Socket  \n",
    "# and receives File Descriptors from other\n",
    "# processes connecting to this server through \n",
    "# the function socket.receive_fds()  \n",
    "import socket\n",
    "import os\n",
    "from pathlib import Path\n",
    "import time\n",
    "\n",
    "import av\n",
    "\n",
    "socket_path = Path.home()/\"test.sock\"\n",
    "socket_path.touch()\n",
    "\n",
    "# Create a Unix Domain socket\n",
    "domainServer = socket.socket(socket.AF_UNIX)\n",
    "\n",
    "# Bind the socket to a path\n",
    "os.unlink(str(socket_path))\n",
    "domainServer.bind(str(socket_path))\n",
    "\n",
    "# Enter into listening mode\n",
    "domainServer.listen()  \n",
    "print(\"Unix domain socket waiting for client connections...\")\n",
    "\n",
    "# Start accepting connections\n",
    "while(True):\n",
    "    sock, addr = domainServer.accept()\n",
    "\n",
    "    # Read file descriptors from a connection\n",
    "    while(True):\n",
    "        tup = socket.recv_fds(sock, 1024, 2)\n",
    "        type = tup[0]\n",
    "        fds = tup[1][0]\n",
    "        \n",
    "        if type == b\"url\":\n",
    "            request = b\"GET / HTTP/1.1\\r\\nHost:www.example.com\\r\\n\\r\\n\"\n",
    "            os.write(fds, request)\n",
    "            print(os.read(fds, 100))\n",
    "        elif type == b\"file\":\n",
    "            print(os.read(fds, 100))\n",
    "        elif type == b\"mp4\":\n",
    "            file_obj = os.fdopen(fds, 'r+b')\n",
    "            container = av.open(file_obj)\n",
    "            decoded_frames = 0\n",
    "            for frame in container.decode(video=0):\n",
    "                decoded_frames += 1\n",
    "            print(f\"Decoded {decoded_frames} of video data\")\n",
    "\n",
    "        sock.send(\"Great...have read all the news\".encode())\n",
    "        sock.close()\n",
    "        break"
   ]
  }
 ],
 "metadata": {
  "kernelspec": {
   "display_name": "Python 3 (ipykernel)",
   "language": "python",
   "name": "python3"
  },
  "language_info": {
   "codemirror_mode": {
    "name": "ipython",
    "version": 3
   },
   "file_extension": ".py",
   "mimetype": "text/x-python",
   "name": "python",
   "nbconvert_exporter": "python",
   "pygments_lexer": "ipython3",
   "version": "3.10.12"
  }
 },
 "nbformat": 4,
 "nbformat_minor": 5
}
